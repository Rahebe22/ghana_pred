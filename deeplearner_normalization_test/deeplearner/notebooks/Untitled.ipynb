{
 "cells": [
  {
   "cell_type": "code",
   "execution_count": null,
   "id": "f533f147-859c-4cbd-80a0-c791b9dda289",
   "metadata": {},
   "outputs": [],
   "source": [
    "import os\n",
    "import sys\n",
    "import re\n",
    "import importlib\n",
    "import pandas as pd\n",
    "import yaml\n",
    "import matplotlib.pyplot as plt\n",
    "import torch.nn as nn\n",
    "\n",
    "from pathlib import Path\n",
    "from torch.utils.data import DataLoader\n",
    "\n",
    "from IPython.core.debugger import set_trace\n",
    "\n",
    "%load_ext autoreload\n",
    "%autoreload 2\n",
    "%matplotlib inline"
   ]
  },
  {
   "cell_type": "code",
   "execution_count": null,
   "id": "59b5ab7e-7f45-43b1-9012-8fcbe10b21f7",
   "metadata": {},
   "outputs": [],
   "source": [
    "module_path = os.path.abspath(os.path.join('../../deeplearner'))\n",
    "sys.path.insert(0, module_path)"
   ]
  },
  {
   "cell_type": "code",
   "execution_count": null,
   "id": "2aaf78da-acf8-4ccf-9a75-9b6182ed7fcf",
   "metadata": {},
   "outputs": [],
   "source": [
    "from deeplearner.datatorch import *\n",
    "from deeplearner.utils import *\n",
    "from deeplearner.compiler import *\n",
    "from deeplearner.losses import *\n",
    "from deeplearner.models.unet_att_d import unet_att_d"
   ]
  },
  {
   "cell_type": "code",
   "execution_count": null,
   "id": "1c238055-894b-4b11-81c3-10cf70642f6b",
   "metadata": {},
   "outputs": [],
   "source": [
    "yaml_config_path = \"/home/airg/skhallaghi/deeplearner_normalization_test/deeplearner/config/default_config.yaml\"\n",
    "\n",
    "with open(yaml_config_path, \"r\") as cfg:\n",
    "    config = yaml.load(cfg, Loader=yaml.SafeLoader)"
   ]
  },
  {
   "cell_type": "code",
   "execution_count": null,
   "id": "5a7624a6-f8d9-4d0e-a932-59fad650e62b",
   "metadata": {},
   "outputs": [],
   "source": [
    "model = unet_att_d(n_classes=config[\"n_classes\"],\n",
    "                   in_channels=config[\"channels\"],\n",
    "                   filter_config=config[\"stage_width\"],\n",
    "                   block_num=config[\"block_num\"],\n",
    "                   dropout_rate=config[\"train_dropout_rate\"],\n",
    "                   dropout_type=config[\"dropout_type\"],\n",
    "                  use_skipAtt=False,)"
   ]
  },
  {
   "cell_type": "code",
   "execution_count": null,
   "id": "826fa14d-25ce-45d7-a2c8-39ac0be666e5",
   "metadata": {},
   "outputs": [],
   "source": [
    "compiled_model = ModelCompiler(model,\n",
    "                               working_dir=config[\"working_dir\"],\n",
    "                               out_dir=config[\"out_dir\"],\n",
    "                               buffer = config[\"one_side_buffer\"],\n",
    "                               class_mapping=config[\"class_mapping\"],\n",
    "                               gpuDevices = config[\"gpu_devices\"], \n",
    "                               params_init = config[\"params_init_path\"],\n",
    "                               freeze_params = config[\"freeze_layer_ls\"])"
   ]
  },
  {
   "cell_type": "code",
   "execution_count": null,
   "id": "500902a3-12db-4254-828a-9753bf275c5d",
   "metadata": {},
   "outputs": [],
   "source": [
    "criterion_name = config['criterion']['name']\n",
    "weight = config['criterion']['weight']\n",
    "ignore_index = config['criterion']['ignore_index']\n",
    "gamma = config['criterion']['gamma']\n",
    "alpha = config['criterion']['alpha']\n",
    "\n",
    "if criterion_name == 'TverskyFocalLoss':\n",
    "    criterion = TverskyFocalLoss(weight=weight, ignore_index=ignore_index, alpha=alpha, gamma=gamma)\n",
    "elif criterion_name == \"LocallyWeightedTverskyFocalLoss\":\n",
    "    criterion = LocallyWeightedTverskyFocalLoss(ignore_index=ignore_index, alpha=alpha, gamma=gamma)\n",
    "elif criterion_name == \"LocallyWeightedTverskyFocalCELoss\":\n",
    "    criterion = LocallyWeightedTverskyFocalCELoss(ignore_index=ignore_index, tversky_alpha=alpha, \n",
    "                                                  tversky_gamma=gamma)\n",
    "else:\n",
    "    raise ValueError(\"Invalid 'criterion_name'.\")"
   ]
  }
 ],
 "metadata": {
  "kernelspec": {
   "display_name": "Python 3 (ipykernel)",
   "language": "python",
   "name": "python3"
  },
  "language_info": {
   "codemirror_mode": {
    "name": "ipython",
    "version": 3
   },
   "file_extension": ".py",
   "mimetype": "text/x-python",
   "name": "python",
   "nbconvert_exporter": "python",
   "pygments_lexer": "ipython3",
   "version": "3.11.4"
  }
 },
 "nbformat": 4,
 "nbformat_minor": 5
}
