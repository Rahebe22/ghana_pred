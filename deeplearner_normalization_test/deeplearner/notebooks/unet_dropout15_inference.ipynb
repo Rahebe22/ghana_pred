{
 "cells": [
  {
   "cell_type": "markdown",
   "metadata": {
    "id": "TZB5G1-d3kCJ"
   },
   "source": [
    "## `deeplearner` inference notebook\n"
   ]
  },
  {
   "cell_type": "code",
   "execution_count": 1,
   "metadata": {
    "colab": {
     "base_uri": "https://localhost:8080/"
    },
    "id": "jkeuhMtY4AZl",
    "outputId": "7681b8e7-b819-41be-e7f0-760fcb63c5aa"
   },
   "outputs": [
    {
     "name": "stdout",
     "output_type": "stream",
     "text": [
      "Mounted at /content/gdrive\n"
     ]
    }
   ],
   "source": [
    "from google.colab import drive\n",
    "drive.mount(\"/content/gdrive\")"
   ]
  },
  {
   "cell_type": "code",
   "execution_count": 2,
   "metadata": {
    "id": "sXEL53o14BqJ"
   },
   "outputs": [],
   "source": [
    "%%capture\n",
    "!pip install rasterio\n",
    "!pip install tensorboardX\n",
    "!pip install boto3\n",
    "!pip install S3Fs\n",
    "!pip install urllib3==1.25.5"
   ]
  },
  {
   "cell_type": "code",
   "execution_count": 3,
   "metadata": {
    "id": "snuTc4X86LsP"
   },
   "outputs": [],
   "source": [
    "import os\n",
    "import sys\n",
    "import shutil\n",
    "import importlib\n",
    "from pathlib import Path\n",
    "import pandas as pd"
   ]
  },
  {
   "cell_type": "markdown",
   "metadata": {
    "id": "dWjhzrjw98AP"
   },
   "source": [
    "Update `deeplearner`"
   ]
  },
  {
   "cell_type": "code",
   "execution_count": 4,
   "metadata": {
    "colab": {
     "base_uri": "https://localhost:8080/"
    },
    "id": "bnavL-Uo7i_o",
    "outputId": "d3e33327-4351-4a0b-96ef-f004580abbc1"
   },
   "outputs": [
    {
     "name": "stdout",
     "output_type": "stream",
     "text": [
      "* \u001b[32mnormalization_test\u001b[m\n",
      "Already up to date.\n"
     ]
    }
   ],
   "source": [
    "git_username = \"agroimpacts\"\n",
    "repo = \"deeplearner\"\n",
    "root = \"/content/gdrive/MyDrive/\"\n",
    "token_path = f\"{root}data/tokens/gh.txt\"\n",
    "git_token = open(token_path, \"r+\").read().splitlines()[0]\n",
    "git_token\n",
    "branch_name = \"normalization_test\"\n",
    "clone_path = f\"{root}sam/FieldBoundaryDataset/FB_working_folder\"\n",
    "\n",
    "if not os.path.exists(clone_path):\n",
    "    os.makedirs(clone_path)\n",
    "\n",
    "git_path = f'https://{git_token}@github.com/{git_username}/{repo}.git'\n",
    "repo_clone_path = f\"{clone_path}/{repo}\"\n",
    "\n",
    "os.chdir(clone_path)\n",
    "if not os.path.isdir(repo_clone_path):\n",
    "  !git clone -b \"{branch_name}\" \"{git_path}\"\n",
    "else:\n",
    "  if os.listdir(repo_clone_path):\n",
    "    os.chdir(repo_clone_path)\n",
    "    !git branch\n",
    "    !git config core.fileMode false  # needed to ignore permissions changes\n",
    "    !git pull\n",
    "\n",
    "os.chdir(\"..\")\n"
   ]
  },
  {
   "cell_type": "code",
   "execution_count": 5,
   "metadata": {
    "id": "1EBRHLzG8fmO"
   },
   "outputs": [],
   "source": [
    "sys.path.insert(0, os.path.join(repo_clone_path, 'deeplearner/'))\n",
    "sys.path.insert(0, repo_clone_path)\n",
    "import deeplearner\n",
    "importlib.reload(deeplearner)\n",
    "from deeplearner.models import *\n",
    "from deeplearner.losses import *\n",
    "from deeplearner.datatorch import *\n",
    "from deeplearner.utils import *\n",
    "from deeplearner.compiler import *"
   ]
  },
  {
   "cell_type": "markdown",
   "metadata": {
    "id": "MREmJ5qK---c"
   },
   "source": [
    "## U-Net dropout 15\n"
   ]
  },
  {
   "cell_type": "markdown",
   "metadata": {
    "id": "QQVaPwTP_MNq"
   },
   "source": [
    "### Parameters"
   ]
  },
  {
   "cell_type": "code",
   "execution_count": 6,
   "metadata": {
    "id": "4A5EXU4i-Faw"
   },
   "outputs": [],
   "source": [
    "config = {\n",
    "    \"source_dir\" : f\"{root}data/imagery/\",\n",
    "    \"working_dir\" : (\n",
    "        f\"{root}/data/imagery/sam/FieldBoundaryDataset/FB_working_folder\"\n",
    "    ),\n",
    "    \"pred_dir\" : f\"{root}data/predictions/cropland/attn_unet_dropout15\",\n",
    "    \n",
    "    # train and validation dataset\n",
    "    \"img_path_cols\" : [\"dir_os\"],\n",
    "    \"norm_stats_type\" : \"local_per_tile\",\n",
    "\n",
    "    # Model\n",
    "    \"input_channels\" : 4,\n",
    "    \"n_classes\" : 3,\n",
    "\n",
    "    # Model compiler\n",
    "    \"gpuDevices\" : [0],\n",
    "    \"params_init_path\" : (\n",
    "        f\"{root}data/models/deeplearner/gh_cg_tz_ng/attn_unet_dropout15/\"\n",
    "        f\"unet_att_d_params.pth\"\n",
    "    ),\n",
    "    \"freeze_layer_ls\" : None,\n",
    "\n",
    "    # Model fitting\n",
    "    \"dropout_rate\" : 0.15,\n",
    "    \n",
    "    # prediction\n",
    "    \"pred_patch_size\": 250,\n",
    "    \"pred_buffer\": 179,\n",
    "    \"composite_buffer\": 179,\n",
    "    \"pred_batch\": 2,\n",
    "    \"shrink_pixels\": 54,\n",
    "    \"average_neighbors\": False\n",
    "\n",
    "}\n",
    "\n",
    "if not os.path.exists(config[\"pred_dir\"]):\n",
    "    os.makedirs(config[\"pred_dir\"])\n",
    "\n",
    "if not os.path.exists(config[\"working_dir\"]):\n",
    "    os.makedirs(config[\"working_dir\"])\n",
    "\n",
    "log_dir = Path(config[\"working_dir\"]) / \"logs\"\n",
    "if not os.path.exists(log_dir):\n",
    "    os.makedirs(log_dir)"
   ]
  },
  {
   "cell_type": "markdown",
   "metadata": {
    "id": "xCaGl3eBKPqF"
   },
   "source": [
    "### Model"
   ]
  },
  {
   "cell_type": "code",
   "execution_count": 7,
   "metadata": {
    "colab": {
     "base_uri": "https://localhost:8080/"
    },
    "id": "h-9cHlE3BbWU",
    "outputId": "fc4de165-d43b-4a5d-e0c1-1f44176ed509"
   },
   "outputs": [
    {
     "name": "stdout",
     "output_type": "stream",
     "text": [
      "----------GPU available----------\n",
      "total number of trainable parameters: 157.9M\n",
      "---------- Pre-trained model compiled successfully ----------\n"
     ]
    }
   ],
   "source": [
    "model = eval('unet_att_d'.lower())(\n",
    "    n_classes=config[\"n_classes\"], in_channels=config[\"input_channels\"], \n",
    "    use_skipAtt=False, dropout_rate=config[\"dropout_rate\"]\n",
    ")\n",
    "model = ModelCompiler(\n",
    "    model, buffer = config[\"pred_buffer\"], \n",
    "    gpuDevices = config[\"gpuDevices\"], \n",
    "    params_init = config[\"params_init_path\"],\n",
    "    freeze_params = config[\"freeze_layer_ls\"]\n",
    ")"
   ]
  },
  {
   "cell_type": "markdown",
   "metadata": {
    "id": "iEJfi5XvKXfD"
   },
   "source": [
    "### Prediction function"
   ]
  },
  {
   "cell_type": "code",
   "execution_count": 8,
   "metadata": {
    "id": "7aWQiHb3CECv"
   },
   "outputs": [],
   "source": [
    "def load_pred_data(dir_data, log_dir, pred_patch_size, pred_buffer, \n",
    "                   pred_composite_buffer, pred_batch, catalog, catalog_row, \n",
    "                   img_path_cols, average_neighbors=False):\n",
    "    def load_single_tile(catalog_ind = catalog_row):\n",
    "        dataset = planetData(\n",
    "            dir_data, log_dir, catalog=catalog, dataSize=pred_patch_size, \n",
    "            buffer=pred_buffer, bufferComp=pred_composite_buffer, \n",
    "            usage=\"predict\", catalogIndex=catalog_ind, \n",
    "            imgPathCols=img_path_cols\n",
    "        )\n",
    "        data_loader = DataLoader(dataset, batch_size=pred_batch, shuffle=False)\n",
    "        meta = dataset.meta\n",
    "        tile = dataset.tile\n",
    "        year = dataset.year\n",
    "        return data_loader, meta, tile, year\n",
    "\n",
    "    if average_neighbors == True:\n",
    "        catalog[\"tile_col_row\"] = catalog.apply(\n",
    "            lambda x: \"{}_{}\".format(x['tile_col'], x['tile_row']), axis=1\n",
    "        )\n",
    "        tile_col = catalog.iloc[catalog_row].tile_col\n",
    "        tile_row = catalog.iloc[catalog_row].tile_row\n",
    "        row_dict = {\n",
    "            \"center\": catalog_row,\n",
    "            \"top\": catalog.query('tile_col=={} & tile_row=={}'.format(tile_col, tile_row - 1)).iloc[0].name \\\n",
    "                if \"{}_{}\".format(tile_col, tile_row - 1) in list(catalog.tile_col_row) else None,\n",
    "            \"left\" : catalog.query('tile_col=={} & tile_row=={}'.format(tile_col - 1, tile_row)).iloc[0].name \\\n",
    "                if \"{}_{}\".format(tile_col - 1, tile_row) in list(catalog.tile_col_row) else None,\n",
    "            \"right\" : catalog.query('tile_col=={} & tile_row=={}'.format(tile_col + 1, tile_row)).iloc[0].name \\\n",
    "                if \"{}_{}\".format(tile_col + 1, tile_row) in list(catalog.tile_col_row) else None,\n",
    "            \"bottom\": catalog.query('tile_col=={} & tile_row=={}'.format(tile_col, tile_row + 1)).iloc[0].name \\\n",
    "                if \"{}_{}\".format(tile_col, tile_row + 1) in list(catalog.tile_col_row) else None,\n",
    "        }\n",
    "        dataset_dict = {k:load_single_tile(catalog_ind = row_dict[k]) if row_dict[k] is not None else None \n",
    "                        for k in row_dict.keys()}\n",
    "        return dataset_dict\n",
    "    # direct crop edge pixels\n",
    "    else:\n",
    "        return load_single_tile()"
   ]
  },
  {
   "cell_type": "markdown",
   "metadata": {
    "id": "sUPlGOWBKIVr"
   },
   "source": [
    "### Load catalog"
   ]
  },
  {
   "cell_type": "code",
   "execution_count": 9,
   "metadata": {
    "id": "7Pm_C21UEiJX"
   },
   "outputs": [],
   "source": [
    "catalog = (\n",
    "    f\"{root}data/imagery/planetscope/predict_catalog_ghana_2019-2021_CM.csv\"\n",
    ")\n",
    "pred_catalog = pd.read_csv(catalog)"
   ]
  },
  {
   "cell_type": "markdown",
   "metadata": {
    "id": "bsCJX7JkIoEK"
   },
   "source": [
    "### Run predictions"
   ]
  },
  {
   "cell_type": "markdown",
   "metadata": {
    "id": "phAg0D37K0nz"
   },
   "source": [
    "#### For 2019"
   ]
  },
  {
   "cell_type": "code",
   "execution_count": 10,
   "metadata": {
    "id": "jsLQVTXkK-Kv"
   },
   "outputs": [],
   "source": [
    "yr = \"2019\"\n",
    "pred_cat = (\n",
    "    pred_catalog.loc[pred_catalog.dir_os.str.contains(yr)].reset_index()\n",
    ")\n",
    "aois = pred_cat[\"aoi\"].unique().tolist()"
   ]
  },
  {
   "cell_type": "markdown",
   "metadata": {
    "id": "W4_gVtx6mvV0"
   },
   "source": [
    "First, have to move tiles into new sub-folders because of i/o failures in Drive. \n",
    "\n",
    "Start by creating new sub-folders in tiles"
   ]
  },
  {
   "cell_type": "code",
   "execution_count": 12,
   "metadata": {
    "id": "HiwmfGaZf0Sn"
   },
   "outputs": [],
   "source": [
    "tile_path = os.path.dirname(\n",
    "    f\"{config['source_dir']}{pred_cat.loc[0]['dir_os']}\"\n",
    ")\n",
    "for y in [\"2019\", \"2020\", \"2021\"]:\n",
    "    new_path = f\"{tile_path}/{y}\"\n",
    "    if not os.path.exists(new_path):\n",
    "        os.makedirs(new_path)"
   ]
  },
  {
   "cell_type": "markdown",
   "metadata": {
    "id": "JpDvqc2Dm_8E"
   },
   "source": [
    "Then move files into 2019 folder"
   ]
  },
  {
   "cell_type": "code",
   "execution_count": 13,
   "metadata": {
    "id": "mQ_fTai2hm8r"
   },
   "outputs": [],
   "source": [
    "pred_cat2 = pred_cat.copy()\n",
    "for i in range(0, len(pred_cat)):\n",
    "    cat_row = pred_cat.loc[i]\n",
    "    img_path = f\"{config['source_dir']}{cat_row['dir_os']}\"\n",
    "    new_img_path = f\"{tile_path}/{yr}/{os.path.basename(img_path)}\"\n",
    "    new_cat_path = (\n",
    "        f\"{os.path.dirname(cat_row['dir_os'])}/{yr}/\"\n",
    "        f\"{os.path.basename(cat_row['dir_os'])}\"\n",
    "    )\n",
    "    # if os.path.exists(img_path):\n",
    "    #     shutil.move(img_path, new_img_path)\n",
    "    \n",
    "    pred_cat2.loc[i, \"dir_os\"] = new_cat_path"
   ]
  },
  {
   "cell_type": "code",
   "execution_count": 14,
   "metadata": {
    "colab": {
     "base_uri": "https://localhost:8080/"
    },
    "id": "zGadgY5HkJNm",
    "outputId": "588b5fa5-1948-4279-e281-e4c4a67ae98d"
   },
   "outputs": [
    {
     "name": "stdout",
     "output_type": "stream",
     "text": [
      "8113\n"
     ]
    }
   ],
   "source": [
    "# pred_cat2\n",
    "!ls /content/gdrive/MyDrive/data/imagery/planetscope/tiles/2019 | wc -l"
   ]
  },
  {
   "cell_type": "markdown",
   "metadata": {
    "id": "bUxLxxKmnMnl"
   },
   "source": [
    "Write out new 2019 catalog, but first drop 3 missing tiles from it to prevent prediction time errors"
   ]
  },
  {
   "cell_type": "code",
   "execution_count": 15,
   "metadata": {
    "colab": {
     "base_uri": "https://localhost:8080/",
     "height": 424
    },
    "id": "cepvHPHGo0F_",
    "outputId": "7681c2a6-9e09-4738-e216-9811702c58cd"
   },
   "outputs": [
    {
     "data": {
      "text/html": [
       "\n",
       "  <div id=\"df-d2a6cfc9-39af-4605-9305-82ffb6dcb712\">\n",
       "    <div class=\"colab-df-container\">\n",
       "      <div>\n",
       "<style scoped>\n",
       "    .dataframe tbody tr th:only-of-type {\n",
       "        vertical-align: middle;\n",
       "    }\n",
       "\n",
       "    .dataframe tbody tr th {\n",
       "        vertical-align: top;\n",
       "    }\n",
       "\n",
       "    .dataframe thead th {\n",
       "        text-align: right;\n",
       "    }\n",
       "</style>\n",
       "<table border=\"1\" class=\"dataframe\">\n",
       "  <thead>\n",
       "    <tr style=\"text-align: right;\">\n",
       "      <th></th>\n",
       "      <th>index</th>\n",
       "      <th>aoi</th>\n",
       "      <th>tile</th>\n",
       "      <th>tile_col</th>\n",
       "      <th>tile_row</th>\n",
       "      <th>dir_os</th>\n",
       "      <th>type</th>\n",
       "    </tr>\n",
       "  </thead>\n",
       "  <tbody>\n",
       "    <tr>\n",
       "      <th>0</th>\n",
       "      <td>0</td>\n",
       "      <td>1</td>\n",
       "      <td>486215</td>\n",
       "      <td>294</td>\n",
       "      <td>530</td>\n",
       "      <td>planetscope/tiles/2019/tile486215_2019-06_2019...</td>\n",
       "      <td>center</td>\n",
       "    </tr>\n",
       "    <tr>\n",
       "      <th>1</th>\n",
       "      <td>3</td>\n",
       "      <td>1</td>\n",
       "      <td>486216</td>\n",
       "      <td>295</td>\n",
       "      <td>530</td>\n",
       "      <td>planetscope/tiles/2019/tile486216_2019-06_2019...</td>\n",
       "      <td>center</td>\n",
       "    </tr>\n",
       "    <tr>\n",
       "      <th>2</th>\n",
       "      <td>6</td>\n",
       "      <td>1</td>\n",
       "      <td>486217</td>\n",
       "      <td>296</td>\n",
       "      <td>530</td>\n",
       "      <td>planetscope/tiles/2019/tile486217_2019-06_2019...</td>\n",
       "      <td>center</td>\n",
       "    </tr>\n",
       "    <tr>\n",
       "      <th>3</th>\n",
       "      <td>9</td>\n",
       "      <td>1</td>\n",
       "      <td>486218</td>\n",
       "      <td>297</td>\n",
       "      <td>530</td>\n",
       "      <td>planetscope/tiles/2019/tile486218_2019-06_2019...</td>\n",
       "      <td>center</td>\n",
       "    </tr>\n",
       "    <tr>\n",
       "      <th>4</th>\n",
       "      <td>12</td>\n",
       "      <td>1</td>\n",
       "      <td>486219</td>\n",
       "      <td>298</td>\n",
       "      <td>530</td>\n",
       "      <td>planetscope/tiles/2019/tile486219_2019-06_2019...</td>\n",
       "      <td>center</td>\n",
       "    </tr>\n",
       "    <tr>\n",
       "      <th>...</th>\n",
       "      <td>...</td>\n",
       "      <td>...</td>\n",
       "      <td>...</td>\n",
       "      <td>...</td>\n",
       "      <td>...</td>\n",
       "      <td>...</td>\n",
       "      <td>...</td>\n",
       "    </tr>\n",
       "    <tr>\n",
       "      <th>8111</th>\n",
       "      <td>24333</td>\n",
       "      <td>16</td>\n",
       "      <td>639908</td>\n",
       "      <td>307</td>\n",
       "      <td>655</td>\n",
       "      <td>planetscope/tiles/2019/tile639908_2019-06_2019...</td>\n",
       "      <td>center</td>\n",
       "    </tr>\n",
       "    <tr>\n",
       "      <th>8112</th>\n",
       "      <td>24336</td>\n",
       "      <td>16</td>\n",
       "      <td>639909</td>\n",
       "      <td>308</td>\n",
       "      <td>655</td>\n",
       "      <td>planetscope/tiles/2019/tile639909_2019-06_2019...</td>\n",
       "      <td>center</td>\n",
       "    </tr>\n",
       "    <tr>\n",
       "      <th>8113</th>\n",
       "      <td>24339</td>\n",
       "      <td>16</td>\n",
       "      <td>639910</td>\n",
       "      <td>309</td>\n",
       "      <td>655</td>\n",
       "      <td>planetscope/tiles/2019/tile639910_2019-06_2019...</td>\n",
       "      <td>center</td>\n",
       "    </tr>\n",
       "    <tr>\n",
       "      <th>8114</th>\n",
       "      <td>24342</td>\n",
       "      <td>16</td>\n",
       "      <td>639911</td>\n",
       "      <td>310</td>\n",
       "      <td>655</td>\n",
       "      <td>planetscope/tiles/2019/tile639911_2019-06_2019...</td>\n",
       "      <td>center</td>\n",
       "    </tr>\n",
       "    <tr>\n",
       "      <th>8115</th>\n",
       "      <td>24345</td>\n",
       "      <td>16</td>\n",
       "      <td>639912</td>\n",
       "      <td>311</td>\n",
       "      <td>655</td>\n",
       "      <td>planetscope/tiles/2019/tile639912_2019-06_2019...</td>\n",
       "      <td>center</td>\n",
       "    </tr>\n",
       "  </tbody>\n",
       "</table>\n",
       "<p>8116 rows × 7 columns</p>\n",
       "</div>\n",
       "      <button class=\"colab-df-convert\" onclick=\"convertToInteractive('df-d2a6cfc9-39af-4605-9305-82ffb6dcb712')\"\n",
       "              title=\"Convert this dataframe to an interactive table.\"\n",
       "              style=\"display:none;\">\n",
       "        \n",
       "  <svg xmlns=\"http://www.w3.org/2000/svg\" height=\"24px\"viewBox=\"0 0 24 24\"\n",
       "       width=\"24px\">\n",
       "    <path d=\"M0 0h24v24H0V0z\" fill=\"none\"/>\n",
       "    <path d=\"M18.56 5.44l.94 2.06.94-2.06 2.06-.94-2.06-.94-.94-2.06-.94 2.06-2.06.94zm-11 1L8.5 8.5l.94-2.06 2.06-.94-2.06-.94L8.5 2.5l-.94 2.06-2.06.94zm10 10l.94 2.06.94-2.06 2.06-.94-2.06-.94-.94-2.06-.94 2.06-2.06.94z\"/><path d=\"M17.41 7.96l-1.37-1.37c-.4-.4-.92-.59-1.43-.59-.52 0-1.04.2-1.43.59L10.3 9.45l-7.72 7.72c-.78.78-.78 2.05 0 2.83L4 21.41c.39.39.9.59 1.41.59.51 0 1.02-.2 1.41-.59l7.78-7.78 2.81-2.81c.8-.78.8-2.07 0-2.86zM5.41 20L4 18.59l7.72-7.72 1.47 1.35L5.41 20z\"/>\n",
       "  </svg>\n",
       "      </button>\n",
       "      \n",
       "  <style>\n",
       "    .colab-df-container {\n",
       "      display:flex;\n",
       "      flex-wrap:wrap;\n",
       "      gap: 12px;\n",
       "    }\n",
       "\n",
       "    .colab-df-convert {\n",
       "      background-color: #E8F0FE;\n",
       "      border: none;\n",
       "      border-radius: 50%;\n",
       "      cursor: pointer;\n",
       "      display: none;\n",
       "      fill: #1967D2;\n",
       "      height: 32px;\n",
       "      padding: 0 0 0 0;\n",
       "      width: 32px;\n",
       "    }\n",
       "\n",
       "    .colab-df-convert:hover {\n",
       "      background-color: #E2EBFA;\n",
       "      box-shadow: 0px 1px 2px rgba(60, 64, 67, 0.3), 0px 1px 3px 1px rgba(60, 64, 67, 0.15);\n",
       "      fill: #174EA6;\n",
       "    }\n",
       "\n",
       "    [theme=dark] .colab-df-convert {\n",
       "      background-color: #3B4455;\n",
       "      fill: #D2E3FC;\n",
       "    }\n",
       "\n",
       "    [theme=dark] .colab-df-convert:hover {\n",
       "      background-color: #434B5C;\n",
       "      box-shadow: 0px 1px 3px 1px rgba(0, 0, 0, 0.15);\n",
       "      filter: drop-shadow(0px 1px 2px rgba(0, 0, 0, 0.3));\n",
       "      fill: #FFFFFF;\n",
       "    }\n",
       "  </style>\n",
       "\n",
       "      <script>\n",
       "        const buttonEl =\n",
       "          document.querySelector('#df-d2a6cfc9-39af-4605-9305-82ffb6dcb712 button.colab-df-convert');\n",
       "        buttonEl.style.display =\n",
       "          google.colab.kernel.accessAllowed ? 'block' : 'none';\n",
       "\n",
       "        async function convertToInteractive(key) {\n",
       "          const element = document.querySelector('#df-d2a6cfc9-39af-4605-9305-82ffb6dcb712');\n",
       "          const dataTable =\n",
       "            await google.colab.kernel.invokeFunction('convertToInteractive',\n",
       "                                                     [key], {});\n",
       "          if (!dataTable) return;\n",
       "\n",
       "          const docLinkHtml = 'Like what you see? Visit the ' +\n",
       "            '<a target=\"_blank\" href=https://colab.research.google.com/notebooks/data_table.ipynb>data table notebook</a>'\n",
       "            + ' to learn more about interactive tables.';\n",
       "          element.innerHTML = '';\n",
       "          dataTable['output_type'] = 'display_data';\n",
       "          await google.colab.output.renderOutput(dataTable, element);\n",
       "          const docLink = document.createElement('div');\n",
       "          docLink.innerHTML = docLinkHtml;\n",
       "          element.appendChild(docLink);\n",
       "        }\n",
       "      </script>\n",
       "    </div>\n",
       "  </div>\n",
       "  "
      ],
      "text/plain": [
       "      index  aoi    tile  tile_col  tile_row  \\\n",
       "0         0    1  486215       294       530   \n",
       "1         3    1  486216       295       530   \n",
       "2         6    1  486217       296       530   \n",
       "3         9    1  486218       297       530   \n",
       "4        12    1  486219       298       530   \n",
       "...     ...  ...     ...       ...       ...   \n",
       "8111  24333   16  639908       307       655   \n",
       "8112  24336   16  639909       308       655   \n",
       "8113  24339   16  639910       309       655   \n",
       "8114  24342   16  639911       310       655   \n",
       "8115  24345   16  639912       311       655   \n",
       "\n",
       "                                                 dir_os    type  \n",
       "0     planetscope/tiles/2019/tile486215_2019-06_2019...  center  \n",
       "1     planetscope/tiles/2019/tile486216_2019-06_2019...  center  \n",
       "2     planetscope/tiles/2019/tile486217_2019-06_2019...  center  \n",
       "3     planetscope/tiles/2019/tile486218_2019-06_2019...  center  \n",
       "4     planetscope/tiles/2019/tile486219_2019-06_2019...  center  \n",
       "...                                                 ...     ...  \n",
       "8111  planetscope/tiles/2019/tile639908_2019-06_2019...  center  \n",
       "8112  planetscope/tiles/2019/tile639909_2019-06_2019...  center  \n",
       "8113  planetscope/tiles/2019/tile639910_2019-06_2019...  center  \n",
       "8114  planetscope/tiles/2019/tile639911_2019-06_2019...  center  \n",
       "8115  planetscope/tiles/2019/tile639912_2019-06_2019...  center  \n",
       "\n",
       "[8116 rows x 7 columns]"
      ]
     },
     "execution_count": 15,
     "metadata": {},
     "output_type": "execute_result"
    }
   ],
   "source": [
    "pred_cat2"
   ]
  },
  {
   "cell_type": "code",
   "execution_count": 16,
   "metadata": {
    "id": "tLCOs6zuna4T"
   },
   "outputs": [],
   "source": [
    "catalog_out = (\n",
    "    f\"{root}data/imagery/planetscope/predict_catalog_ghana_2019.csv\"\n",
    ")\n",
    "tls = os.listdir(f\"{tile_path}/{yr}\")\n",
    "pred_cat2['img'] = pred_cat2.apply(lambda x: os.path.basename(x[\"dir_os\"]), axis=1)\n",
    "\n",
    "pred_cat2 = pred_cat2[pred_cat2['img'].isin(tls)].reset_index()\n",
    "pred_cat2.drop('img', axis=1, inplace=True)\n",
    "\n",
    "if not os.path.exists(catalog_out):\n",
    "    pred_cat2.to_csv(catalog_out)\n",
    "# # [tl for tl in os.path.basename(pred_cat2[\"dir_os\"]) if tl not in tls]\n",
    "# pred_catalog = pd.read_csv(catalog)"
   ]
  },
  {
   "cell_type": "code",
   "execution_count": null,
   "metadata": {
    "id": "RkzsWi9cKeyj"
   },
   "outputs": [],
   "source": [
    "# for aoi in aois[0:1]:\n",
    "for aoi in aois[6:7]:\n",
    "    print(f\"AOI {aoi}\")\n",
    "    pcat = pred_cat2.loc[pred_cat2.aoi == aoi]\n",
    "    inds = pcat.query(\"type == 'center'\").index.values\n",
    "    print(inds[-1])\n",
    "    # for i in inds:\n",
    "    # for i in range(3130, 3168):\n",
    "    for i in range(3542, inds[-1]+1):\n",
    "        print(\"Predicting on index %s\" % (i))\n",
    "        pred_dataloader = load_pred_data(\n",
    "            dir_data=config[\"source_dir\"], log_dir=log_dir, \n",
    "            pred_patch_size=config[\"pred_patch_size\"], \n",
    "            pred_buffer=config[\"pred_buffer\"], \n",
    "            pred_composite_buffer=config[\"composite_buffer\"], \n",
    "            pred_batch=config[\"pred_batch\"], catalog=pred_cat2, catalog_row=i, \n",
    "            img_path_cols=config[\"img_path_cols\"], \n",
    "            average_neighbors = config[\"average_neighbors\"]\n",
    "        )\n",
    "        p = model.predict(\n",
    "            pred_dataloader, bucket=None, outPrefix=config[\"pred_dir\"], \n",
    "            predBuffer=config[\"pred_buffer\"], \n",
    "            averageNeighbors=config[\"average_neighbors\"], \n",
    "            shrinkBuffer = config[\"shrink_pixels\"]\n",
    "        )\n",
    "\n",
    "    print(f\"Finished {aoi}\")"
   ]
  },
  {
   "cell_type": "markdown",
   "metadata": {
    "id": "DDWDVIDKES8Z"
   },
   "source": [
    "Move the prediction images into sub-folders organized by year and score"
   ]
  },
  {
   "cell_type": "code",
   "execution_count": 33,
   "metadata": {
    "id": "ihcKiaTg-65p"
   },
   "outputs": [],
   "source": [
    "for y in [\"score1\", \"score2\"]:\n",
    "    new_path = f\"{config['pred_dir']}/{yr}/{y}\"\n",
    "    if not os.path.exists(new_path):\n",
    "        os.makedirs(new_path)"
   ]
  },
  {
   "cell_type": "code",
   "execution_count": null,
   "metadata": {
    "id": "5Z_O3ub0_hFR"
   },
   "outputs": [],
   "source": [
    "os.chdir(config['pred_dir'])\n",
    "!mv Score_1* 2019/score1/\n",
    "!mv Score_2* 2019/score2\n",
    "!ls "
   ]
  },
  {
   "cell_type": "markdown",
   "metadata": {
    "id": "ZlXDswL6zsFQ"
   },
   "source": [
    "# New Section"
   ]
  }
 ],
 "metadata": {
  "accelerator": "GPU",
  "colab": {
   "authorship_tag": "ABX9TyP7k+TAPv3Ur8vgfaii1NdH",
   "provenance": [],
   "toc_visible": true
  },
  "gpuClass": "standard",
  "kernelspec": {
   "display_name": "Python 3 (ipykernel)",
   "language": "python",
   "name": "python3"
  },
  "language_info": {
   "codemirror_mode": {
    "name": "ipython",
    "version": 3
   },
   "file_extension": ".py",
   "mimetype": "text/x-python",
   "name": "python",
   "nbconvert_exporter": "python",
   "pygments_lexer": "ipython3",
   "version": "3.11.4"
  }
 },
 "nbformat": 4,
 "nbformat_minor": 4
}
